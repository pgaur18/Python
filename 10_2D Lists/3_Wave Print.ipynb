{
 "cells": [
  {
   "cell_type": "code",
   "execution_count": 2,
   "id": "2cd9f2be",
   "metadata": {},
   "outputs": [
    {
     "data": {
      "text/plain": [
       "[[1, 2, 3], [4, 5, 6], [7, 8, 9]]"
      ]
     },
     "execution_count": 2,
     "metadata": {},
     "output_type": "execute_result"
    }
   ],
   "source": [
    "out= [ [1,2,3], [4,5,6], [7,8,9] ]\n",
    "out"
   ]
  },
  {
   "cell_type": "code",
   "execution_count": 3,
   "id": "0068bf61",
   "metadata": {},
   "outputs": [
    {
     "name": "stdout",
     "output_type": "stream",
     "text": [
      "3   3\n"
     ]
    }
   ],
   "source": [
    "n= len(out)\n",
    "m= len(out[0])\n",
    "\n",
    "print(n , \" \" , m )"
   ]
  },
  {
   "cell_type": "code",
   "execution_count": null,
   "id": "be44e4d5",
   "metadata": {},
   "outputs": [],
   "source": [
    "# Go colums wise\n",
    "# Even column --> down\n",
    "# Odd column  --> up"
   ]
  },
  {
   "cell_type": "code",
   "execution_count": 6,
   "id": "a297eb58",
   "metadata": {},
   "outputs": [
    {
     "name": "stdout",
     "output_type": "stream",
     "text": [
      "1 4 7 8 5 2 3 6 9 "
     ]
    }
   ],
   "source": [
    "for j in range(m):\n",
    "    \n",
    "    if( j % 2 == 0 ):\n",
    "        for i in range(n):\n",
    "            print( out[i][j], end= \" \")\n",
    "    else:\n",
    "        for i in range(n-1, -1, -1):\n",
    "            print( out[i][j], end= \" \")\n"
   ]
  }
 ],
 "metadata": {
  "kernelspec": {
   "display_name": "Python 3 (ipykernel)",
   "language": "python",
   "name": "python3"
  },
  "language_info": {
   "codemirror_mode": {
    "name": "ipython",
    "version": 3
   },
   "file_extension": ".py",
   "mimetype": "text/x-python",
   "name": "python",
   "nbconvert_exporter": "python",
   "pygments_lexer": "ipython3",
   "version": "3.9.7"
  }
 },
 "nbformat": 4,
 "nbformat_minor": 5
}
