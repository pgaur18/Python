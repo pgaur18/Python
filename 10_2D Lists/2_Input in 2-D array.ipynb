{
 "cells": [
  {
   "cell_type": "code",
   "execution_count": 13,
   "id": "c7103935",
   "metadata": {},
   "outputs": [
    {
     "name": "stdout",
     "output_type": "stream",
     "text": [
      "2 3 \n",
      "1 2 3 4 5 6\n"
     ]
    }
   ],
   "source": [
    "str= input().strip().split(\" \")\n",
    "n= int(str[0])\n",
    "m= int(str[1])\n",
    "\n",
    "li= [ int(j) for j in input().strip().split() ]\n",
    "\n",
    "out= [] \n",
    "\n",
    "for i in range(n):\n",
    "    out.append([])\n",
    "    for j in range(m):\n",
    "        out[i].append(li[i*m + j])"
   ]
  },
  {
   "cell_type": "code",
   "execution_count": 15,
   "id": "d5fcdd9f",
   "metadata": {},
   "outputs": [
    {
     "data": {
      "text/plain": [
       "[[1, 2, 3], [4, 5, 6]]"
      ]
     },
     "execution_count": 15,
     "metadata": {},
     "output_type": "execute_result"
    }
   ],
   "source": [
    "out"
   ]
  },
  {
   "cell_type": "code",
   "execution_count": 16,
   "id": "1298402b",
   "metadata": {},
   "outputs": [],
   "source": [
    "# The work work can be reduced by using the syntax that we have used earlier\n",
    "# li3= [ [ j for j in range(4)] for i in range(10) ]"
   ]
  },
  {
   "cell_type": "code",
   "execution_count": 18,
   "id": "feba06b0",
   "metadata": {},
   "outputs": [
    {
     "data": {
      "text/plain": [
       "[[1, 2, 3], [4, 5, 6]]"
      ]
     },
     "execution_count": 18,
     "metadata": {},
     "output_type": "execute_result"
    }
   ],
   "source": [
    "out2= [[ li[i*m + j] for j in range(m)] for i in range(n) ]\n",
    "out2"
   ]
  }
 ],
 "metadata": {
  "kernelspec": {
   "display_name": "Python 3 (ipykernel)",
   "language": "python",
   "name": "python3"
  },
  "language_info": {
   "codemirror_mode": {
    "name": "ipython",
    "version": 3
   },
   "file_extension": ".py",
   "mimetype": "text/x-python",
   "name": "python",
   "nbconvert_exporter": "python",
   "pygments_lexer": "ipython3",
   "version": "3.9.7"
  }
 },
 "nbformat": 4,
 "nbformat_minor": 5
}
