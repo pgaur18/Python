{
 "cells": [
  {
   "cell_type": "markdown",
   "id": "f27a41b7",
   "metadata": {},
   "source": [
    "## How to create 2-D"
   ]
  },
  {
   "cell_type": "code",
   "execution_count": 3,
   "id": "41c25185",
   "metadata": {},
   "outputs": [
    {
     "data": {
      "text/plain": [
       "[[1, 2, 3], [4, 5, 6]]"
      ]
     },
     "execution_count": 3,
     "metadata": {},
     "output_type": "execute_result"
    }
   ],
   "source": [
    "li= [ [1,2,3], [4,5,6] ]\n",
    "li"
   ]
  },
  {
   "cell_type": "markdown",
   "id": "187fbd1a",
   "metadata": {},
   "source": [
    "Creating 2-D Array"
   ]
  },
  {
   "cell_type": "code",
   "execution_count": 7,
   "id": "ab4dc9e1",
   "metadata": {},
   "outputs": [
    {
     "data": {
      "text/plain": [
       "[0, 1, 2, 3, 4, 5, 6, 7, 8, 9]"
      ]
     },
     "execution_count": 7,
     "metadata": {},
     "output_type": "execute_result"
    }
   ],
   "source": [
    "li1D= [i for i in range(10)]\n",
    "li1D"
   ]
  },
  {
   "cell_type": "code",
   "execution_count": 10,
   "id": "42ce720f",
   "metadata": {},
   "outputs": [
    {
     "data": {
      "text/plain": [
       "[[1, 1], [1, 1], [1, 1], [1, 1], [1, 1]]"
      ]
     },
     "execution_count": 10,
     "metadata": {},
     "output_type": "execute_result"
    }
   ],
   "source": [
    "li2D= [ [1,1] for i in range(5) ]\n",
    "li2D"
   ]
  },
  {
   "cell_type": "code",
   "execution_count": 11,
   "id": "df2281f1",
   "metadata": {},
   "outputs": [
    {
     "data": {
      "text/plain": [
       "1"
      ]
     },
     "execution_count": 11,
     "metadata": {},
     "output_type": "execute_result"
    }
   ],
   "source": [
    "li2D[2][0]"
   ]
  },
  {
   "cell_type": "code",
   "execution_count": 14,
   "id": "a646500e",
   "metadata": {},
   "outputs": [
    {
     "data": {
      "text/plain": [
       "[[1, 1, 1],\n",
       " [1, 1, 1],\n",
       " [1, 1, 1],\n",
       " [1, 1, 1],\n",
       " [1, 1, 1],\n",
       " [1, 1, 1],\n",
       " [1, 1, 1],\n",
       " [1, 1, 1],\n",
       " [1, 1, 1],\n",
       " [1, 1, 1]]"
      ]
     },
     "execution_count": 14,
     "metadata": {},
     "output_type": "execute_result"
    }
   ],
   "source": [
    "li3= [ [1,1,1] for i in range(10)]\n",
    "li3"
   ]
  },
  {
   "cell_type": "code",
   "execution_count": 23,
   "id": "6cd8edb5",
   "metadata": {},
   "outputs": [
    {
     "data": {
      "text/plain": [
       "[[0, 1, 2, 3],\n",
       " [0, 1, 2, 3],\n",
       " [0, 1, 2, 3],\n",
       " [0, 1, 2, 3],\n",
       " [0, 1, 2, 3],\n",
       " [0, 1, 2, 3],\n",
       " [0, 1, 2, 3],\n",
       " [0, 1, 2, 3],\n",
       " [0, 1, 2, 3],\n",
       " [0, 1, 2, 3]]"
      ]
     },
     "execution_count": 23,
     "metadata": {},
     "output_type": "execute_result"
    }
   ],
   "source": [
    "li3= [ [ j for j in range(4)] for i in range(10) ]\n",
    "li3"
   ]
  },
  {
   "cell_type": "code",
   "execution_count": 1,
   "id": "8442c45b",
   "metadata": {},
   "outputs": [
    {
     "data": {
      "text/plain": [
       "[[0, 1, 2, 3],\n",
       " [4, 5, 6, 7],\n",
       " [8, 9, 10, 11],\n",
       " [12, 13, 14, 15],\n",
       " [16, 17, 18, 19],\n",
       " [20, 21, 22, 23],\n",
       " [24, 25, 26, 27],\n",
       " [28, 29, 30, 31],\n",
       " [32, 33, 34, 35],\n",
       " [36, 37, 38, 39]]"
      ]
     },
     "execution_count": 1,
     "metadata": {},
     "output_type": "execute_result"
    }
   ],
   "source": [
    "li4= [ [4 * i +j for j in range(4)] for i in range(10)] \n",
    "\n",
    "li4"
   ]
  }
 ],
 "metadata": {
  "kernelspec": {
   "display_name": "Python 3 (ipykernel)",
   "language": "python",
   "name": "python3"
  },
  "language_info": {
   "codemirror_mode": {
    "name": "ipython",
    "version": 3
   },
   "file_extension": ".py",
   "mimetype": "text/x-python",
   "name": "python",
   "nbconvert_exporter": "python",
   "pygments_lexer": "ipython3",
   "version": "3.9.7"
  }
 },
 "nbformat": 4,
 "nbformat_minor": 5
}
