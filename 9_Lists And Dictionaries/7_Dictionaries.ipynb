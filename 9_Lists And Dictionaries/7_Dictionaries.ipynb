{
 "cells": [
  {
   "cell_type": "code",
   "execution_count": 1,
   "id": "b80003cd",
   "metadata": {},
   "outputs": [
    {
     "data": {
      "text/plain": [
       "dict"
      ]
     },
     "execution_count": 1,
     "metadata": {},
     "output_type": "execute_result"
    }
   ],
   "source": [
    "di= {}\n",
    "type(di)"
   ]
  },
  {
   "cell_type": "code",
   "execution_count": 5,
   "id": "f77fc349",
   "metadata": {},
   "outputs": [
    {
     "data": {
      "text/plain": [
       "4"
      ]
     },
     "execution_count": 5,
     "metadata": {},
     "output_type": "execute_result"
    }
   ],
   "source": [
    "di= { \"the\" : 1, \"ab\" : 2 , \"a\" : 5 , 100 : \"hundred\" }\n",
    "len(di)"
   ]
  },
  {
   "cell_type": "markdown",
   "id": "0f356fae",
   "metadata": {},
   "source": [
    "## Different ways of creating new dictionaries"
   ]
  },
  {
   "cell_type": "code",
   "execution_count": 7,
   "id": "028d12e5",
   "metadata": {},
   "outputs": [
    {
     "data": {
      "text/plain": [
       "{'the': 1, 'ab': 2, 'a': 5, 100: 'hundred'}"
      ]
     },
     "execution_count": 7,
     "metadata": {},
     "output_type": "execute_result"
    }
   ],
   "source": [
    "dict2= di.copy()\n",
    "dict2"
   ]
  },
  {
   "cell_type": "code",
   "execution_count": 10,
   "id": "5b9a11d3",
   "metadata": {},
   "outputs": [
    {
     "name": "stdout",
     "output_type": "stream",
     "text": [
      "{'a': 1, 'ab': 5}\n"
     ]
    }
   ],
   "source": [
    "dict3= dict([(\"a\", 1), (\"ab\", 5)])\n",
    "len(dict3)\n",
    "print(dict3)"
   ]
  },
  {
   "cell_type": "code",
   "execution_count": 15,
   "id": "892514f3",
   "metadata": {},
   "outputs": [
    {
     "data": {
      "text/plain": [
       "{'the': None, 32: None, 'a': None}"
      ]
     },
     "execution_count": 15,
     "metadata": {},
     "output_type": "execute_result"
    }
   ],
   "source": [
    "dict4= dict.fromkeys([\"the\", 32, \"a\"])\n",
    "dict4"
   ]
  }
 ],
 "metadata": {
  "kernelspec": {
   "display_name": "Python 3 (ipykernel)",
   "language": "python",
   "name": "python3"
  },
  "language_info": {
   "codemirror_mode": {
    "name": "ipython",
    "version": 3
   },
   "file_extension": ".py",
   "mimetype": "text/x-python",
   "name": "python",
   "nbconvert_exporter": "python",
   "pygments_lexer": "ipython3",
   "version": "3.9.7"
  }
 },
 "nbformat": 4,
 "nbformat_minor": 5
}
