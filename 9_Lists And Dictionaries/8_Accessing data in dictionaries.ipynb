{
 "cells": [
  {
   "cell_type": "code",
   "execution_count": 2,
   "id": "2411f7b8",
   "metadata": {},
   "outputs": [
    {
     "data": {
      "text/plain": [
       "{1: 2, 5: 10, 'li': [20, 40], 'dict': {'hi': 25}}"
      ]
     },
     "execution_count": 2,
     "metadata": {},
     "output_type": "execute_result"
    }
   ],
   "source": [
    "di= { 1 : 2, 5 : 10, \"li\" : [20,40], \"dict\" : { \"hi\" : 25} }\n",
    "di"
   ]
  },
  {
   "cell_type": "code",
   "execution_count": 5,
   "id": "55919dd9",
   "metadata": {},
   "outputs": [
    {
     "data": {
      "text/plain": [
       "[20, 40]"
      ]
     },
     "execution_count": 5,
     "metadata": {},
     "output_type": "execute_result"
    }
   ],
   "source": [
    "di[1]\n",
    "di[\"li\"]"
   ]
  },
  {
   "cell_type": "markdown",
   "id": "3c015965",
   "metadata": {},
   "source": [
    "## Get method"
   ]
  },
  {
   "cell_type": "code",
   "execution_count": 6,
   "id": "3bf69895",
   "metadata": {},
   "outputs": [
    {
     "data": {
      "text/plain": [
       "[20, 40]"
      ]
     },
     "execution_count": 6,
     "metadata": {},
     "output_type": "execute_result"
    }
   ],
   "source": [
    "di.get(\"li\")"
   ]
  },
  {
   "cell_type": "code",
   "execution_count": 7,
   "id": "f519cd84",
   "metadata": {},
   "outputs": [
    {
     "data": {
      "text/plain": [
       "0"
      ]
     },
     "execution_count": 7,
     "metadata": {},
     "output_type": "execute_result"
    }
   ],
   "source": [
    "di.get(\"abc\", 0 )"
   ]
  },
  {
   "cell_type": "code",
   "execution_count": 8,
   "id": "6a13577a",
   "metadata": {},
   "outputs": [
    {
     "data": {
      "text/plain": [
       "dict_keys([1, 5, 'li', 'dict'])"
      ]
     },
     "execution_count": 8,
     "metadata": {},
     "output_type": "execute_result"
    }
   ],
   "source": [
    "di.keys()"
   ]
  },
  {
   "cell_type": "code",
   "execution_count": 9,
   "id": "3af35697",
   "metadata": {},
   "outputs": [
    {
     "data": {
      "text/plain": [
       "dict_values([2, 10, [20, 40], {'hi': 25}])"
      ]
     },
     "execution_count": 9,
     "metadata": {},
     "output_type": "execute_result"
    }
   ],
   "source": [
    "di.values()"
   ]
  },
  {
   "cell_type": "code",
   "execution_count": 10,
   "id": "f1946e59",
   "metadata": {},
   "outputs": [
    {
     "data": {
      "text/plain": [
       "dict_items([(1, 2), (5, 10), ('li', [20, 40]), ('dict', {'hi': 25})])"
      ]
     },
     "execution_count": 10,
     "metadata": {},
     "output_type": "execute_result"
    }
   ],
   "source": [
    "# Returns both key value pair\n",
    "di.items()"
   ]
  },
  {
   "cell_type": "markdown",
   "id": "405af3ff",
   "metadata": {},
   "source": [
    "## Looping in dictionary"
   ]
  },
  {
   "cell_type": "code",
   "execution_count": 12,
   "id": "ae63c6ca",
   "metadata": {},
   "outputs": [
    {
     "name": "stdout",
     "output_type": "stream",
     "text": [
      "1 -> 2\n",
      "5 -> 10\n",
      "li -> [20, 40]\n",
      "dict -> {'hi': 25}\n"
     ]
    }
   ],
   "source": [
    "for i in di:\n",
    "    print(i, \"->\", di[i])"
   ]
  },
  {
   "cell_type": "code",
   "execution_count": 13,
   "id": "f066b52e",
   "metadata": {},
   "outputs": [
    {
     "name": "stdout",
     "output_type": "stream",
     "text": [
      "2\n",
      "10\n",
      "[20, 40]\n",
      "{'hi': 25}\n"
     ]
    }
   ],
   "source": [
    "for i in di.values():\n",
    "    print(i)"
   ]
  },
  {
   "cell_type": "code",
   "execution_count": 15,
   "id": "1bdf026b",
   "metadata": {},
   "outputs": [
    {
     "data": {
      "text/plain": [
       "True"
      ]
     },
     "execution_count": 15,
     "metadata": {},
     "output_type": "execute_result"
    }
   ],
   "source": [
    "\"li\" in di"
   ]
  }
 ],
 "metadata": {
  "kernelspec": {
   "display_name": "Python 3 (ipykernel)",
   "language": "python",
   "name": "python3"
  },
  "language_info": {
   "codemirror_mode": {
    "name": "ipython",
    "version": 3
   },
   "file_extension": ".py",
   "mimetype": "text/x-python",
   "name": "python",
   "nbconvert_exporter": "python",
   "pygments_lexer": "ipython3",
   "version": "3.9.7"
  }
 },
 "nbformat": 4,
 "nbformat_minor": 5
}
