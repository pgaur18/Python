{
 "cells": [
  {
   "cell_type": "code",
   "execution_count": 1,
   "id": "f1a27dab",
   "metadata": {},
   "outputs": [],
   "source": [
    "di= { \"a\" : 1, \"b\" : 2 }"
   ]
  },
  {
   "cell_type": "code",
   "execution_count": 2,
   "id": "cc035871",
   "metadata": {},
   "outputs": [
    {
     "data": {
      "text/plain": [
       "{'a': 1, 'b': 2, 'c': 3}"
      ]
     },
     "execution_count": 2,
     "metadata": {},
     "output_type": "execute_result"
    }
   ],
   "source": [
    "di[\"c\"]= 3\n",
    "di"
   ]
  },
  {
   "cell_type": "code",
   "execution_count": 3,
   "id": "b44b633e",
   "metadata": {},
   "outputs": [
    {
     "data": {
      "text/plain": [
       "{'a': 1, 'b': 2, 'c': 3, 'tup': (1, 2, 3, 4)}"
      ]
     },
     "execution_count": 3,
     "metadata": {},
     "output_type": "execute_result"
    }
   ],
   "source": [
    "di[\"tup\"]= (1,2,3,4)\n",
    "di"
   ]
  },
  {
   "cell_type": "code",
   "execution_count": 4,
   "id": "23ea15d0",
   "metadata": {},
   "outputs": [
    {
     "data": {
      "text/plain": [
       "{'a': 100, 'b': 2, 'c': 3, 'tup': (1, 2, 3, 4)}"
      ]
     },
     "execution_count": 4,
     "metadata": {},
     "output_type": "execute_result"
    }
   ],
   "source": [
    "di[\"a\"]= 100\n",
    "di"
   ]
  },
  {
   "cell_type": "code",
   "execution_count": 5,
   "id": "18548ada",
   "metadata": {},
   "outputs": [
    {
     "data": {
      "text/plain": [
       "{'a': 1, 'b': 4, 'c': 5}"
      ]
     },
     "execution_count": 5,
     "metadata": {},
     "output_type": "execute_result"
    }
   ],
   "source": [
    "d1= { \"a\" : 1, \"b\" : 2 }\n",
    "d2= { \"b\" : 4, \"c\" : 5}\n",
    "d1.update(d2)\n",
    "d1"
   ]
  },
  {
   "cell_type": "markdown",
   "id": "e2318312",
   "metadata": {},
   "source": [
    "## Remove data --> pop() method is used"
   ]
  },
  {
   "cell_type": "code",
   "execution_count": 7,
   "id": "e002e611",
   "metadata": {},
   "outputs": [
    {
     "name": "stdout",
     "output_type": "stream",
     "text": [
      "dict_keys(['a', 'b', 'c'])\n",
      "dict_keys(['b', 'c'])\n"
     ]
    }
   ],
   "source": [
    "# Takes key as an argument and returns the value associated with that key\n",
    "print(d1.keys())\n",
    "\n",
    "d1.pop(\"a\")\n",
    "print(d1.keys())"
   ]
  },
  {
   "cell_type": "markdown",
   "id": "84ca45ae",
   "metadata": {},
   "source": [
    "## Del method"
   ]
  },
  {
   "cell_type": "code",
   "execution_count": 13,
   "id": "394a5079",
   "metadata": {},
   "outputs": [
    {
     "data": {
      "text/plain": [
       "{}"
      ]
     },
     "execution_count": 13,
     "metadata": {},
     "output_type": "execute_result"
    }
   ],
   "source": [
    "d1\n",
    "d1[\"a\"]= 1\n",
    "d1[\"b\"]= 2\n",
    "d1.clear()\n",
    "d1"
   ]
  }
 ],
 "metadata": {
  "kernelspec": {
   "display_name": "Python 3 (ipykernel)",
   "language": "python",
   "name": "python3"
  },
  "language_info": {
   "codemirror_mode": {
    "name": "ipython",
    "version": 3
   },
   "file_extension": ".py",
   "mimetype": "text/x-python",
   "name": "python",
   "nbconvert_exporter": "python",
   "pygments_lexer": "ipython3",
   "version": "3.9.7"
  }
 },
 "nbformat": 4,
 "nbformat_minor": 5
}
