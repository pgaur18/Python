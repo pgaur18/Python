{
 "cells": [
  {
   "cell_type": "code",
   "execution_count": 3,
   "id": "f47c7233",
   "metadata": {},
   "outputs": [
    {
     "name": "stdout",
     "output_type": "stream",
     "text": [
      "True\n",
      "False\n"
     ]
    }
   ],
   "source": [
    "a= 100\n",
    "b= 200\n",
    "\n",
    "c1= a> 10\n",
    "c2= b> 10\n",
    "\n",
    "c3= True\n",
    "c4= not(c3)\n",
    "\n",
    "print(c1 and c2)\n",
    "print(c4)"
   ]
  }
 ],
 "metadata": {
  "kernelspec": {
   "display_name": "Python 3 (ipykernel)",
   "language": "python",
   "name": "python3"
  },
  "language_info": {
   "codemirror_mode": {
    "name": "ipython",
    "version": 3
   },
   "file_extension": ".py",
   "mimetype": "text/x-python",
   "name": "python",
   "nbconvert_exporter": "python",
   "pygments_lexer": "ipython3",
   "version": "3.9.7"
  }
 },
 "nbformat": 4,
 "nbformat_minor": 5
}
