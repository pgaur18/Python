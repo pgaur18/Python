{
 "cells": [
  {
   "cell_type": "markdown",
   "id": "d1cae610",
   "metadata": {},
   "source": [
    "Slicing( string, startindex, endindex )"
   ]
  },
  {
   "cell_type": "code",
   "execution_count": 3,
   "id": "a1e95df8",
   "metadata": {},
   "outputs": [
    {
     "data": {
      "text/plain": [
       "'an '"
      ]
     },
     "execution_count": 3,
     "metadata": {},
     "output_type": "execute_result"
    }
   ],
   "source": [
    "str= \"My name is hello\"\n",
    "str[-5 : -1 : 1]\n",
    "str[4 : 1 : -1]"
   ]
  },
  {
   "cell_type": "code",
   "execution_count": 4,
   "id": "8eb73eed",
   "metadata": {},
   "outputs": [
    {
     "data": {
      "text/plain": [
       "'cd'"
      ]
     },
     "execution_count": 4,
     "metadata": {},
     "output_type": "execute_result"
    }
   ],
   "source": [
    "s= \"abcd\"\n",
    "s[2:]"
   ]
  },
  {
   "cell_type": "code",
   "execution_count": 6,
   "id": "900a8703",
   "metadata": {},
   "outputs": [
    {
     "data": {
      "text/plain": [
       "'o'"
      ]
     },
     "execution_count": 6,
     "metadata": {},
     "output_type": "execute_result"
    }
   ],
   "source": [
    "s2= \"hello\"\n",
    "s2[-1:]"
   ]
  },
  {
   "cell_type": "code",
   "execution_count": 8,
   "id": "e7df71b4",
   "metadata": {},
   "outputs": [
    {
     "data": {
      "text/plain": [
       "'gh'"
      ]
     },
     "execution_count": 8,
     "metadata": {},
     "output_type": "execute_result"
    }
   ],
   "source": [
    "s3=\"abcdefghi\"\n",
    "s3[-3: -1]"
   ]
  }
 ],
 "metadata": {
  "kernelspec": {
   "display_name": "Python 3 (ipykernel)",
   "language": "python",
   "name": "python3"
  },
  "language_info": {
   "codemirror_mode": {
    "name": "ipython",
    "version": 3
   },
   "file_extension": ".py",
   "mimetype": "text/x-python",
   "name": "python",
   "nbconvert_exporter": "python",
   "pygments_lexer": "ipython3",
   "version": "3.9.7"
  }
 },
 "nbformat": 4,
 "nbformat_minor": 5
}
