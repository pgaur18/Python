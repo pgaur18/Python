{
 "cells": [
  {
   "cell_type": "markdown",
   "id": "c53b98f2",
   "metadata": {},
   "source": [
    "Split()"
   ]
  },
  {
   "cell_type": "code",
   "execution_count": 10,
   "id": "16cd4ee3",
   "metadata": {},
   "outputs": [
    {
     "data": {
      "text/plain": [
       "['Microsoft', 'Google GoldmanSachs DEShaw']"
      ]
     },
     "execution_count": 10,
     "metadata": {},
     "output_type": "execute_result"
    }
   ],
   "source": [
    "s= \"Microsoft Google GoldmanSachs DEShaw\"\n",
    "s.split(\" \", 1)"
   ]
  },
  {
   "cell_type": "markdown",
   "id": "0ad6914a",
   "metadata": {},
   "source": [
    "Replace()- returns the updated string"
   ]
  },
  {
   "cell_type": "code",
   "execution_count": 2,
   "id": "570e6124",
   "metadata": {},
   "outputs": [
    {
     "name": "stdout",
     "output_type": "stream",
     "text": [
      "My World\n"
     ]
    }
   ],
   "source": [
    "s= \"Hello World\"\n",
    "s= s.replace(\"Hello\", \"My\")\n",
    "print(s)"
   ]
  },
  {
   "cell_type": "markdown",
   "id": "65efa987",
   "metadata": {},
   "source": [
    "Find()"
   ]
  },
  {
   "cell_type": "code",
   "execution_count": 8,
   "id": "a6237cc1",
   "metadata": {},
   "outputs": [
    {
     "name": "stdout",
     "output_type": "stream",
     "text": [
      "0\n"
     ]
    }
   ],
   "source": [
    "str= \"My Name is Hello\"\n",
    "index= str.find(\"My\", 0, 10)\n",
    "print(index)"
   ]
  },
  {
   "cell_type": "markdown",
   "id": "2906d5f1",
   "metadata": {},
   "source": [
    "lower() and upper()"
   ]
  },
  {
   "cell_type": "code",
   "execution_count": 14,
   "id": "9fb13904",
   "metadata": {},
   "outputs": [
    {
     "name": "stdout",
     "output_type": "stream",
     "text": [
      "HELLO\n",
      "hello\n"
     ]
    }
   ],
   "source": [
    "str= \"Hello\"\n",
    "str= str.upper()\n",
    "print(str)\n",
    "str= str.lower()\n",
    "print(str)"
   ]
  },
  {
   "cell_type": "markdown",
   "id": "09793c49",
   "metadata": {},
   "source": [
    "startswith()"
   ]
  },
  {
   "cell_type": "code",
   "execution_count": 18,
   "id": "8f86ebbf",
   "metadata": {},
   "outputs": [
    {
     "data": {
      "text/plain": [
       "True"
      ]
     },
     "execution_count": 18,
     "metadata": {},
     "output_type": "execute_result"
    }
   ],
   "source": [
    "str= \"Hello World\"\n",
    "str.startswith(\"H\")\n",
    "str.startswith(\"W\", 6)"
   ]
  }
 ],
 "metadata": {
  "kernelspec": {
   "display_name": "Python 3 (ipykernel)",
   "language": "python",
   "name": "python3"
  },
  "language_info": {
   "codemirror_mode": {
    "name": "ipython",
    "version": 3
   },
   "file_extension": ".py",
   "mimetype": "text/x-python",
   "name": "python",
   "nbconvert_exporter": "python",
   "pygments_lexer": "ipython3",
   "version": "3.9.7"
  }
 },
 "nbformat": 4,
 "nbformat_minor": 5
}
