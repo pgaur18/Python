{
 "cells": [
  {
   "cell_type": "code",
   "execution_count": 16,
   "id": "50e10945",
   "metadata": {},
   "outputs": [],
   "source": [
    "def sum( a, b, c= 0, d= 0):\n",
    "    return a + b+ c+ d"
   ]
  },
  {
   "cell_type": "code",
   "execution_count": 17,
   "id": "5e6bdf6b",
   "metadata": {},
   "outputs": [
    {
     "data": {
      "text/plain": [
       "4"
      ]
     },
     "execution_count": 17,
     "metadata": {},
     "output_type": "execute_result"
    }
   ],
   "source": [
    "sum(2,2,0)"
   ]
  },
  {
   "cell_type": "code",
   "execution_count": 18,
   "id": "230728c8",
   "metadata": {},
   "outputs": [],
   "source": [
    "def sum2( a, b, *more):\n",
    "    print(a)\n",
    "    print(b)\n",
    "    print(more)"
   ]
  },
  {
   "cell_type": "code",
   "execution_count": 26,
   "id": "c0b28771",
   "metadata": {},
   "outputs": [
    {
     "name": "stdout",
     "output_type": "stream",
     "text": [
      "2\n",
      "2\n",
      "()\n"
     ]
    }
   ],
   "source": [
    "sum2(2,2)"
   ]
  },
  {
   "cell_type": "code",
   "execution_count": 28,
   "id": "189a3c33",
   "metadata": {},
   "outputs": [
    {
     "name": "stdout",
     "output_type": "stream",
     "text": [
      "1\n",
      "2\n",
      "(3, 4)\n"
     ]
    }
   ],
   "source": [
    "sum2(1,2,3,4)"
   ]
  },
  {
   "cell_type": "markdown",
   "id": "531060a8",
   "metadata": {},
   "source": [
    "## One method for multiple inputs which returns the sum of all the inputs no passed"
   ]
  },
  {
   "cell_type": "code",
   "execution_count": 29,
   "id": "c4bde5c2",
   "metadata": {},
   "outputs": [],
   "source": [
    "def Sum(a, b, *more ):\n",
    "    \n",
    "    ans= a+b\n",
    "    \n",
    "    for i in more:\n",
    "        ans+= i\n",
    "    return ans"
   ]
  },
  {
   "cell_type": "code",
   "execution_count": 30,
   "id": "9fb85a21",
   "metadata": {},
   "outputs": [
    {
     "data": {
      "text/plain": [
       "10"
      ]
     },
     "execution_count": 30,
     "metadata": {},
     "output_type": "execute_result"
    }
   ],
   "source": [
    "Sum(1, 2, 3, 4)"
   ]
  }
 ],
 "metadata": {
  "kernelspec": {
   "display_name": "Python 3 (ipykernel)",
   "language": "python",
   "name": "python3"
  },
  "language_info": {
   "codemirror_mode": {
    "name": "ipython",
    "version": 3
   },
   "file_extension": ".py",
   "mimetype": "text/x-python",
   "name": "python",
   "nbconvert_exporter": "python",
   "pygments_lexer": "ipython3",
   "version": "3.9.7"
  }
 },
 "nbformat": 4,
 "nbformat_minor": 5
}
