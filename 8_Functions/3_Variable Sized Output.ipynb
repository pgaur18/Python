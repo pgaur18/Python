{
 "cells": [
  {
   "cell_type": "markdown",
   "id": "8ce27761",
   "metadata": {},
   "source": [
    "## Return multiple outputs from 1 method"
   ]
  },
  {
   "cell_type": "markdown",
   "id": "daacb044",
   "metadata": {},
   "source": [
    "#### Return the difference and sum of 2 numbers from 1 method"
   ]
  },
  {
   "cell_type": "code",
   "execution_count": 1,
   "id": "0f0f21b7",
   "metadata": {},
   "outputs": [],
   "source": [
    "def sum_diff( a, b):\n",
    "    return a+b, a-b"
   ]
  },
  {
   "cell_type": "code",
   "execution_count": 2,
   "id": "345ebfb2",
   "metadata": {},
   "outputs": [
    {
     "data": {
      "text/plain": [
       "(6, 2)"
      ]
     },
     "execution_count": 2,
     "metadata": {},
     "output_type": "execute_result"
    }
   ],
   "source": [
    "sum_diff(4,2)"
   ]
  }
 ],
 "metadata": {
  "kernelspec": {
   "display_name": "Python 3 (ipykernel)",
   "language": "python",
   "name": "python3"
  },
  "language_info": {
   "codemirror_mode": {
    "name": "ipython",
    "version": 3
   },
   "file_extension": ".py",
   "mimetype": "text/x-python",
   "name": "python",
   "nbconvert_exporter": "python",
   "pygments_lexer": "ipython3",
   "version": "3.9.7"
  }
 },
 "nbformat": 4,
 "nbformat_minor": 5
}
