{
 "cells": [
  {
   "cell_type": "code",
   "execution_count": 3,
   "id": "a4b155c4",
   "metadata": {},
   "outputs": [
    {
     "name": "stdout",
     "output_type": "stream",
     "text": [
      "4\n",
      "2\n"
     ]
    },
    {
     "data": {
      "text/plain": [
       "6"
      ]
     },
     "execution_count": 3,
     "metadata": {},
     "output_type": "execute_result"
    }
   ],
   "source": [
    "n= int(input())\n",
    "r= int(input())\n",
    "\n",
    "n_fact= 1\n",
    "for i in range(1, n+1, 1):\n",
    "    n_fact*= i\n",
    "\n",
    "r_fact= 1\n",
    "for i in range(1, r+1, 1):\n",
    "    r_fact*= i\n",
    "\n",
    "n_r_fact= 1\n",
    "for i in range(1, n-r+1, 1):\n",
    "    n_r_fact*= i\n",
    "    \n",
    "ans= n_fact//(r_fact * n_r_fact)\n",
    "ans"
   ]
  },
  {
   "cell_type": "markdown",
   "id": "a58592e4",
   "metadata": {},
   "source": [
    "## Function"
   ]
  },
  {
   "cell_type": "code",
   "execution_count": 16,
   "id": "2eac82e0",
   "metadata": {},
   "outputs": [],
   "source": [
    "def fact( n ):\n",
    "    n_fact= 1\n",
    "    \n",
    "    for i in range(1, n+1, 1):\n",
    "        n_fact*= i\n",
    "        \n",
    "    return n_fact"
   ]
  },
  {
   "cell_type": "code",
   "execution_count": 17,
   "id": "308154cf",
   "metadata": {},
   "outputs": [
    {
     "data": {
      "text/plain": [
       "120"
      ]
     },
     "execution_count": 17,
     "metadata": {},
     "output_type": "execute_result"
    }
   ],
   "source": [
    "fact(5)"
   ]
  },
  {
   "cell_type": "code",
   "execution_count": 18,
   "id": "8f9c05d8",
   "metadata": {},
   "outputs": [
    {
     "name": "stdout",
     "output_type": "stream",
     "text": [
      "4\n",
      "2\n",
      "Ans is :  6\n"
     ]
    }
   ],
   "source": [
    "n= int(input())\n",
    "r= int(input())\n",
    "\n",
    "n_fact= fact(n)\n",
    "r_fact= fact(r)\n",
    "n_r_fact= fact(n-r)\n",
    "\n",
    "ans= n_fact//( n_r_fact* r_fact)\n",
    "print(\"Ans is : \" , ans)"
   ]
  }
 ],
 "metadata": {
  "kernelspec": {
   "display_name": "Python 3 (ipykernel)",
   "language": "python",
   "name": "python3"
  },
  "language_info": {
   "codemirror_mode": {
    "name": "ipython",
    "version": 3
   },
   "file_extension": ".py",
   "mimetype": "text/x-python",
   "name": "python",
   "nbconvert_exporter": "python",
   "pygments_lexer": "ipython3",
   "version": "3.9.7"
  }
 },
 "nbformat": 4,
 "nbformat_minor": 5
}
