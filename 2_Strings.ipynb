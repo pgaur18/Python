{
 "cells": [
  {
   "cell_type": "code",
   "execution_count": 3,
   "id": "efbb5720",
   "metadata": {},
   "outputs": [
    {
     "name": "stdout",
     "output_type": "stream",
     "text": [
      "Google\n"
     ]
    }
   ],
   "source": [
    "s= \"Google\"\n",
    "print(s)"
   ]
  },
  {
   "cell_type": "code",
   "execution_count": 5,
   "id": "c78fed8a",
   "metadata": {},
   "outputs": [
    {
     "data": {
      "text/plain": [
       "'e'"
      ]
     },
     "execution_count": 5,
     "metadata": {},
     "output_type": "execute_result"
    }
   ],
   "source": [
    "s[0]\n",
    "s[-1]"
   ]
  },
  {
   "cell_type": "markdown",
   "id": "b8dea6a5",
   "metadata": {},
   "source": [
    "## How Strings are stored and Immutable"
   ]
  },
  {
   "cell_type": "code",
   "execution_count": 6,
   "id": "b5052fd6",
   "metadata": {},
   "outputs": [
    {
     "name": "stdout",
     "output_type": "stream",
     "text": [
      "2863719217584\n",
      "2863719217584\n"
     ]
    }
   ],
   "source": [
    "s1= \"ab\"\n",
    "s2= \"ab\"\n",
    "\n",
    "print(id(s1))\n",
    "print(id(s2))"
   ]
  }
 ],
 "metadata": {
  "kernelspec": {
   "display_name": "Python 3 (ipykernel)",
   "language": "python",
   "name": "python3"
  },
  "language_info": {
   "codemirror_mode": {
    "name": "ipython",
    "version": 3
   },
   "file_extension": ".py",
   "mimetype": "text/x-python",
   "name": "python",
   "nbconvert_exporter": "python",
   "pygments_lexer": "ipython3",
   "version": "3.9.7"
  }
 },
 "nbformat": 4,
 "nbformat_minor": 5
}
