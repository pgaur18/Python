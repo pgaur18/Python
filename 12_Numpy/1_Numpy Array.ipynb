{
 "cells": [
  {
   "cell_type": "code",
   "execution_count": 2,
   "id": "ea45ccb1",
   "metadata": {},
   "outputs": [
    {
     "name": "stdout",
     "output_type": "stream",
     "text": [
      "[ 1  5 10]\n"
     ]
    }
   ],
   "source": [
    "# How to create numpy array\n",
    "import numpy as np\n",
    "li= [1,2,3,4]\n",
    "a= np.array(li)\n",
    "# Slicing of numpy array wroks same as lists and tuple and string\n",
    "a[1:3]\n",
    "\n",
    "arr2= np.array([1,5,10])\n",
    "print(arr2)"
   ]
  },
  {
   "cell_type": "code",
   "execution_count": 7,
   "id": "53774875",
   "metadata": {},
   "outputs": [
    {
     "data": {
      "text/plain": [
       "array([1., 1., 1., 1., 1.])"
      ]
     },
     "execution_count": 7,
     "metadata": {},
     "output_type": "execute_result"
    }
   ],
   "source": [
    "np.zeros(5)\n",
    "np.ones(5)"
   ]
  },
  {
   "cell_type": "code",
   "execution_count": 13,
   "id": "8ee7990f",
   "metadata": {},
   "outputs": [
    {
     "name": "stdout",
     "output_type": "stream",
     "text": [
      "float64\n",
      "int32\n"
     ]
    }
   ],
   "source": [
    "arr= np.ones(10)\n",
    "print(arr.dtype)\n",
    "\n",
    "arr= np.ones(10, int)\n",
    "print(arr.dtype)"
   ]
  },
  {
   "cell_type": "markdown",
   "id": "0626c0c7",
   "metadata": {},
   "source": [
    "## Multi Dimensional Array"
   ]
  },
  {
   "cell_type": "code",
   "execution_count": 18,
   "id": "a94b09c8",
   "metadata": {},
   "outputs": [
    {
     "data": {
      "text/plain": [
       "array([[1, 1],\n",
       "       [1, 1]])"
      ]
     },
     "execution_count": 18,
     "metadata": {},
     "output_type": "execute_result"
    }
   ],
   "source": [
    "arr2D= np.ones((2,2), int)\n",
    "arr2D"
   ]
  },
  {
   "cell_type": "code",
   "execution_count": 25,
   "id": "0c73d34d",
   "metadata": {},
   "outputs": [
    {
     "name": "stdout",
     "output_type": "stream",
     "text": [
      "(2, 2)\n"
     ]
    },
    {
     "data": {
      "text/plain": [
       "tuple"
      ]
     },
     "execution_count": 25,
     "metadata": {},
     "output_type": "execute_result"
    }
   ],
   "source": [
    "tup= arr2D.shape\n",
    "print(arr2D.shape)\n",
    "type(tup)"
   ]
  },
  {
   "cell_type": "code",
   "execution_count": 27,
   "id": "c69721e8",
   "metadata": {},
   "outputs": [
    {
     "name": "stdout",
     "output_type": "stream",
     "text": [
      "[1 2 3]\n",
      "[ 1  4  7 10]\n"
     ]
    }
   ],
   "source": [
    "# Row data\n",
    "\n",
    "a= np.array( [ [1,2,3], [4,5,6], [7,8,9], [10,11,12] ])\n",
    "\n",
    "# complete row\n",
    "print(a[0])\n",
    "\n",
    "# complete colum\n",
    "\n",
    "print( a[ : , 0])"
   ]
  },
  {
   "cell_type": "code",
   "execution_count": 30,
   "id": "29de7f04",
   "metadata": {},
   "outputs": [
    {
     "name": "stdout",
     "output_type": "stream",
     "text": [
      "[1 4]\n",
      "[[ 1  2]\n",
      " [ 4  5]\n",
      " [ 7  8]\n",
      " [10 11]]\n"
     ]
    }
   ],
   "source": [
    "print(a[0:2, 0])\n",
    "print(a[ : , 0 : 2])"
   ]
  }
 ],
 "metadata": {
  "kernelspec": {
   "display_name": "Python 3 (ipykernel)",
   "language": "python",
   "name": "python3"
  },
  "language_info": {
   "codemirror_mode": {
    "name": "ipython",
    "version": 3
   },
   "file_extension": ".py",
   "mimetype": "text/x-python",
   "name": "python",
   "nbconvert_exporter": "python",
   "pygments_lexer": "ipython3",
   "version": "3.9.7"
  }
 },
 "nbformat": 4,
 "nbformat_minor": 5
}
